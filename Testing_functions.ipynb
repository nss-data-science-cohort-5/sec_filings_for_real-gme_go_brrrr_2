{
 "cells": [
  {
   "cell_type": "code",
   "execution_count": 34,
   "id": "88dbe828",
   "metadata": {},
   "outputs": [],
   "source": [
    "from bs4 import BeautifulSoup as BS\n",
    "from tqdm import tqdm\n",
    "import re\n",
    "import pandas as pd\n",
    "from spacy.matcher import PhraseMatcher\n",
    "from spacy.lang.en import English\n",
    "import spacy\n",
    "import glob\n",
    "from nltk import sent_tokenize\n",
    "nlp = spacy.load('en_core_web_sm')"
   ]
  },
  {
   "cell_type": "code",
   "execution_count": 44,
   "id": "da6be4fc",
   "metadata": {},
   "outputs": [],
   "source": [
    "filepath = './data/amrk-10k_20210630.htm'"
   ]
  },
  {
   "cell_type": "code",
   "execution_count": 45,
   "id": "98e2da95",
   "metadata": {},
   "outputs": [
    {
     "data": {
      "text/plain": [
       "['Fiscal 2021        Fiscal 2020       Quarter     High        Low        High        Low       First     $  4.51        $  8.99        $  4.47        $  1.40       Second     $  7.40        $  5.08        $  3.26        $  .00       Third     $  9.74        $  6.67        $  2.28        $  .85       Fourth     $  6.35        $  5.11        $  9.56        $  2.13        Issuer Purchases of Equity Securities On April 26, 2018, the Company’s Board of Directors authorized a stock repurchase program for up to 500,000 shares of the Company’s stock.',\n",
       " '\"Share Repurchase Program In April 2018, the Company\\'s Board of Directors approved a share repurchase program which authorizes the Company to purchase up to 500,000 shares of its common stock from time to time, either in the open market or in block purchase transactions.\"']"
      ]
     },
     "execution_count": 45,
     "metadata": {},
     "output_type": "execute_result"
    }
   ],
   "source": [
    "regex_10k(import_10k(filepath))"
   ]
  },
  {
   "cell_type": "code",
   "execution_count": 2,
   "id": "e4c8ec1e",
   "metadata": {},
   "outputs": [],
   "source": [
    "#function #1 import the html file and tokenize the sentences\n",
    "def import_10k(filepath):\n",
    "    \"\"\" This function takes the filepath of the 10-K filing as input and returns the tokenized\n",
    "    sentences of the 10-K file\"\"\"\n",
    "    with open(filepath, encoding='utf-8') as fp:\n",
    "        soup = BS(fp, 'html.parser')\n",
    "        ten_k = soup.text\n",
    "        sentences_tokenized=sent_tokenize(ten_k)\n",
    "    return sentences_tokenized "
   ]
  },
  {
   "cell_type": "code",
   "execution_count": 38,
   "id": "810025e2",
   "metadata": {},
   "outputs": [],
   "source": [
    "#function 2 regex the tokenized sentences to find the \n",
    "def regex_10k(sentences_tokenized):\n",
    "    \"\"\"This function takes the tokenized sentences from the 10-K file as input and returns\n",
    "    the paragraphs referring to share repurchase programs\"\"\"\n",
    "    sentences=[]\n",
    "    for sentence in sentences_tokenized:\n",
    "        match=re.search(r\"(share|stock) repurchase (program)?\", sentence)\n",
    "        if match: \n",
    "            match = re.search(r'authorized|approved', sentence)\n",
    "            if match:\n",
    "                sentences.append(sentence)  \n",
    "    paragraph = [re.sub(r\"\\\\[a-z]+\\d?\", \" \", repr(sentence).strip(\"'\")) for sentence in sentences]\n",
    "    \n",
    "    return paragraph"
   ]
  },
  {
   "cell_type": "code",
   "execution_count": 43,
   "id": "8a9078ee",
   "metadata": {},
   "outputs": [
    {
     "data": {
      "text/plain": [
       "[]"
      ]
     },
     "execution_count": 43,
     "metadata": {},
     "output_type": "execute_result"
    }
   ],
   "source": [
    "regex_10k(par)"
   ]
  },
  {
   "cell_type": "code",
   "execution_count": 35,
   "id": "a1b8e36f",
   "metadata": {
    "scrolled": true
   },
   "outputs": [],
   "source": [
    "#function 3 NER on paragraphs using spaCy\n",
    "def ner_10k(paragraph):\n",
    "    \"\"\"This function takes the tokenized and regexed sentences from the 10-K file and uses named entity\n",
    "    recognition from spaCy to identify dates, number of shares and the amount authorized for repurchasing\"\"\"\n",
    "    \n",
    "    labels = []\n",
    "    for p in paragraph:\n",
    "        doc=nlp(p)\n",
    "        for ent in doc.ents:\n",
    "            if ent.label_ in [\"DATE\", \"CARDINAL\", \"MONEY\"]:\n",
    "                labels.append((p, ent.text, ent.label_))\n",
    "    \n",
    "    return labels"
   ]
  },
  {
   "cell_type": "code",
   "execution_count": 5,
   "id": "fcf0a052",
   "metadata": {},
   "outputs": [],
   "source": [
    "#combine it all together\n",
    "def search_10k(filepath):\n",
    "    \"\"\"this function combines the previous functions into one to create the values we will input into our\n",
    "    dictionary to mimic the json file.\"\"\"\n",
    "    imported_file = import_10k(filepath)\n",
    "    paragraph = regex_10k(imported_file)\n",
    "    labels = ner_10k(paragraph)\n",
    "    return labels"
   ]
  },
  {
   "cell_type": "code",
   "execution_count": 42,
   "id": "3ad4cb8a",
   "metadata": {},
   "outputs": [],
   "source": [
    "par = [\"We repurchased 1,177,704 shares under the program, for a total cost of $32.9 million, in fiscal 2021, and 686,997 shares under the program, for a total cost of $25.1 million, in fiscal 2020. The Company has repurchased a total of 9,425,462 shares, at a total cost of $307.3 million, since the inception of this program. We have remaining authority to repurchase 1,824,538 shares under this program, which has no expiration date.\"]"
   ]
  },
  {
   "cell_type": "code",
   "execution_count": 39,
   "id": "8fa74684",
   "metadata": {},
   "outputs": [],
   "source": [
    "labels = ner_10k(paragraph)"
   ]
  },
  {
   "cell_type": "code",
   "execution_count": 40,
   "id": "1b35a1c8",
   "metadata": {},
   "outputs": [
    {
     "data": {
      "text/plain": [
       "[('We repurchased 1,177,704 shares under the program, for a total cost of $32.9 million, in fiscal 2021, and 686,997 shares under the program, for a total cost of $25.1 million, in fiscal 2020. The Company has repurchased a total of 9,425,462 shares, at a total cost of $307.3 million, since the inception of this program. We have remaining authority to repurchase 1,824,538 shares under this program, which has no expiration date.',\n",
       "  '1,177,704',\n",
       "  'CARDINAL'),\n",
       " ('We repurchased 1,177,704 shares under the program, for a total cost of $32.9 million, in fiscal 2021, and 686,997 shares under the program, for a total cost of $25.1 million, in fiscal 2020. The Company has repurchased a total of 9,425,462 shares, at a total cost of $307.3 million, since the inception of this program. We have remaining authority to repurchase 1,824,538 shares under this program, which has no expiration date.',\n",
       "  '$32.9 million',\n",
       "  'MONEY'),\n",
       " ('We repurchased 1,177,704 shares under the program, for a total cost of $32.9 million, in fiscal 2021, and 686,997 shares under the program, for a total cost of $25.1 million, in fiscal 2020. The Company has repurchased a total of 9,425,462 shares, at a total cost of $307.3 million, since the inception of this program. We have remaining authority to repurchase 1,824,538 shares under this program, which has no expiration date.',\n",
       "  'fiscal 2021',\n",
       "  'DATE'),\n",
       " ('We repurchased 1,177,704 shares under the program, for a total cost of $32.9 million, in fiscal 2021, and 686,997 shares under the program, for a total cost of $25.1 million, in fiscal 2020. The Company has repurchased a total of 9,425,462 shares, at a total cost of $307.3 million, since the inception of this program. We have remaining authority to repurchase 1,824,538 shares under this program, which has no expiration date.',\n",
       "  '686,997',\n",
       "  'CARDINAL'),\n",
       " ('We repurchased 1,177,704 shares under the program, for a total cost of $32.9 million, in fiscal 2021, and 686,997 shares under the program, for a total cost of $25.1 million, in fiscal 2020. The Company has repurchased a total of 9,425,462 shares, at a total cost of $307.3 million, since the inception of this program. We have remaining authority to repurchase 1,824,538 shares under this program, which has no expiration date.',\n",
       "  '$25.1 million',\n",
       "  'MONEY'),\n",
       " ('We repurchased 1,177,704 shares under the program, for a total cost of $32.9 million, in fiscal 2021, and 686,997 shares under the program, for a total cost of $25.1 million, in fiscal 2020. The Company has repurchased a total of 9,425,462 shares, at a total cost of $307.3 million, since the inception of this program. We have remaining authority to repurchase 1,824,538 shares under this program, which has no expiration date.',\n",
       "  'fiscal 2020',\n",
       "  'DATE'),\n",
       " ('We repurchased 1,177,704 shares under the program, for a total cost of $32.9 million, in fiscal 2021, and 686,997 shares under the program, for a total cost of $25.1 million, in fiscal 2020. The Company has repurchased a total of 9,425,462 shares, at a total cost of $307.3 million, since the inception of this program. We have remaining authority to repurchase 1,824,538 shares under this program, which has no expiration date.',\n",
       "  '9,425,462',\n",
       "  'CARDINAL'),\n",
       " ('We repurchased 1,177,704 shares under the program, for a total cost of $32.9 million, in fiscal 2021, and 686,997 shares under the program, for a total cost of $25.1 million, in fiscal 2020. The Company has repurchased a total of 9,425,462 shares, at a total cost of $307.3 million, since the inception of this program. We have remaining authority to repurchase 1,824,538 shares under this program, which has no expiration date.',\n",
       "  '$307.3 million',\n",
       "  'MONEY'),\n",
       " ('We repurchased 1,177,704 shares under the program, for a total cost of $32.9 million, in fiscal 2021, and 686,997 shares under the program, for a total cost of $25.1 million, in fiscal 2020. The Company has repurchased a total of 9,425,462 shares, at a total cost of $307.3 million, since the inception of this program. We have remaining authority to repurchase 1,824,538 shares under this program, which has no expiration date.',\n",
       "  '1,824,538',\n",
       "  'CARDINAL')]"
      ]
     },
     "execution_count": 40,
     "metadata": {},
     "output_type": "execute_result"
    }
   ],
   "source": [
    "labels"
   ]
  },
  {
   "cell_type": "code",
   "execution_count": 12,
   "id": "3acfd16e",
   "metadata": {},
   "outputs": [],
   "source": [
    "filepath= './data/earn-20211231.htm'"
   ]
  },
  {
   "cell_type": "code",
   "execution_count": 13,
   "id": "2adaf7d8",
   "metadata": {},
   "outputs": [
    {
     "name": "stdout",
     "output_type": "stream",
     "text": [
      "June 13, 2018 DATE\n",
      "1.2 million CARDINAL\n",
      "the years ended December 31, 2021 DATE\n",
      "2020 DATE\n",
      "31 DATE\n",
      "2021December 31 DATE\n",
      "2020Common CARDINAL\n",
      "12/31/2020 DATE\n",
      "12/31/2019 DATE\n",
      "12,455,758 CARDINAL\n",
      "23,926 CARDINAL\n",
      "136,142)Common CARDINAL\n",
      "12/31/2021 DATE\n",
      "12/31/2020 DATE\n",
      "12,343,542 CARDINAL\n",
      "12/31/2021 DATE\n",
      "12/31/2020 DATE\n",
      "27,594 CARDINAL\n",
      "December 31, 2021: DATE\n",
      "September 14 DATE\n",
      "2021September 13 DATE\n",
      "2020December 17, 20225,650 DATE\n",
      "December 16, 2021December 16, DATE\n",
      "20225,649 December 16, 2021December 16 DATE\n",
      "December 31, 2021 DATE\n",
      "2020 DATE\n",
      "268,831 CARDINAL\n",
      "274,798 CARDINAL\n",
      "June 13, 2018 DATE\n",
      "1.2 million CARDINAL\n"
     ]
    }
   ],
   "source": [
    "search_10k(filepath)"
   ]
  },
  {
   "cell_type": "code",
   "execution_count": 46,
   "id": "c415f42b",
   "metadata": {},
   "outputs": [
    {
     "name": "stderr",
     "output_type": "stream",
     "text": [
      " 10%|▉         | 3/31 [00:28<04:22,  9.38s/it]\n"
     ]
    },
    {
     "ename": "KeyboardInterrupt",
     "evalue": "",
     "output_type": "error",
     "traceback": [
      "\u001b[0;31m---------------------------------------------------------------------------\u001b[0m",
      "\u001b[0;31mKeyboardInterrupt\u001b[0m                         Traceback (most recent call last)",
      "\u001b[0;32m<ipython-input-46-a000dbb8ee4d>\u001b[0m in \u001b[0;36m<module>\u001b[0;34m\u001b[0m\n\u001b[1;32m      3\u001b[0m \u001b[0;32mfor\u001b[0m \u001b[0mf\u001b[0m \u001b[0;32min\u001b[0m \u001b[0mtqdm\u001b[0m\u001b[0;34m(\u001b[0m\u001b[0mglob\u001b[0m\u001b[0;34m.\u001b[0m\u001b[0mglob\u001b[0m\u001b[0;34m(\u001b[0m\u001b[0;34m'./data/*'\u001b[0m\u001b[0;34m)\u001b[0m\u001b[0;34m)\u001b[0m\u001b[0;34m:\u001b[0m\u001b[0;34m\u001b[0m\u001b[0;34m\u001b[0m\u001b[0m\n\u001b[1;32m      4\u001b[0m     \u001b[0mtitle\u001b[0m \u001b[0;34m=\u001b[0m \u001b[0mf\u001b[0m\u001b[0;34m\u001b[0m\u001b[0;34m\u001b[0m\u001b[0m\n\u001b[0;32m----> 5\u001b[0;31m     \u001b[0mten_k\u001b[0m \u001b[0;34m=\u001b[0m \u001b[0msearch_10k\u001b[0m\u001b[0;34m(\u001b[0m\u001b[0mf\u001b[0m\u001b[0;34m)\u001b[0m\u001b[0;34m\u001b[0m\u001b[0;34m\u001b[0m\u001b[0m\n\u001b[0m\u001b[1;32m      6\u001b[0m \u001b[0;34m\u001b[0m\u001b[0m\n\u001b[1;32m      7\u001b[0m     \u001b[0mtenkdict\u001b[0m\u001b[0;34m[\u001b[0m\u001b[0mtitle\u001b[0m\u001b[0;34m]\u001b[0m \u001b[0;34m=\u001b[0m \u001b[0mten_k\u001b[0m\u001b[0;34m\u001b[0m\u001b[0;34m\u001b[0m\u001b[0m\n",
      "\u001b[0;32m<ipython-input-5-e9976c28b7e1>\u001b[0m in \u001b[0;36msearch_10k\u001b[0;34m(filepath)\u001b[0m\n\u001b[1;32m      1\u001b[0m \u001b[0;31m#combine it all together\u001b[0m\u001b[0;34m\u001b[0m\u001b[0;34m\u001b[0m\u001b[0;34m\u001b[0m\u001b[0m\n\u001b[1;32m      2\u001b[0m \u001b[0;32mdef\u001b[0m \u001b[0msearch_10k\u001b[0m\u001b[0;34m(\u001b[0m\u001b[0mfilepath\u001b[0m\u001b[0;34m)\u001b[0m\u001b[0;34m:\u001b[0m\u001b[0;34m\u001b[0m\u001b[0;34m\u001b[0m\u001b[0m\n\u001b[0;32m----> 3\u001b[0;31m     \u001b[0mimported_file\u001b[0m \u001b[0;34m=\u001b[0m \u001b[0mimport_10k\u001b[0m\u001b[0;34m(\u001b[0m\u001b[0mfilepath\u001b[0m\u001b[0;34m)\u001b[0m\u001b[0;34m\u001b[0m\u001b[0;34m\u001b[0m\u001b[0m\n\u001b[0m\u001b[1;32m      4\u001b[0m     \u001b[0mparagraph\u001b[0m \u001b[0;34m=\u001b[0m \u001b[0mregex_10k\u001b[0m\u001b[0;34m(\u001b[0m\u001b[0mimported_file\u001b[0m\u001b[0;34m)\u001b[0m\u001b[0;34m\u001b[0m\u001b[0;34m\u001b[0m\u001b[0m\n\u001b[1;32m      5\u001b[0m     \u001b[0mlabels\u001b[0m \u001b[0;34m=\u001b[0m \u001b[0mner_10k\u001b[0m\u001b[0;34m(\u001b[0m\u001b[0mparagraph\u001b[0m\u001b[0;34m)\u001b[0m\u001b[0;34m\u001b[0m\u001b[0;34m\u001b[0m\u001b[0m\n",
      "\u001b[0;32m<ipython-input-2-0df3ef4740bc>\u001b[0m in \u001b[0;36mimport_10k\u001b[0;34m(filepath)\u001b[0m\n\u001b[1;32m      4\u001b[0m         \u001b[0msoup\u001b[0m \u001b[0;34m=\u001b[0m \u001b[0mBS\u001b[0m\u001b[0;34m(\u001b[0m\u001b[0mfp\u001b[0m\u001b[0;34m,\u001b[0m \u001b[0;34m'html.parser'\u001b[0m\u001b[0;34m)\u001b[0m\u001b[0;34m\u001b[0m\u001b[0;34m\u001b[0m\u001b[0m\n\u001b[1;32m      5\u001b[0m         \u001b[0mten_k\u001b[0m \u001b[0;34m=\u001b[0m \u001b[0msoup\u001b[0m\u001b[0;34m.\u001b[0m\u001b[0mtext\u001b[0m\u001b[0;34m\u001b[0m\u001b[0;34m\u001b[0m\u001b[0m\n\u001b[0;32m----> 6\u001b[0;31m         \u001b[0msentences_tokenized\u001b[0m\u001b[0;34m=\u001b[0m\u001b[0msent_tokenize\u001b[0m\u001b[0;34m(\u001b[0m\u001b[0mten_k\u001b[0m\u001b[0;34m)\u001b[0m\u001b[0;34m\u001b[0m\u001b[0;34m\u001b[0m\u001b[0m\n\u001b[0m\u001b[1;32m      7\u001b[0m     \u001b[0;32mreturn\u001b[0m \u001b[0msentences_tokenized\u001b[0m\u001b[0;34m\u001b[0m\u001b[0;34m\u001b[0m\u001b[0m\n",
      "\u001b[0;32m/opt/anaconda3/lib/python3.8/site-packages/nltk/tokenize/__init__.py\u001b[0m in \u001b[0;36msent_tokenize\u001b[0;34m(text, language)\u001b[0m\n\u001b[1;32m    106\u001b[0m     \"\"\"\n\u001b[1;32m    107\u001b[0m     \u001b[0mtokenizer\u001b[0m \u001b[0;34m=\u001b[0m \u001b[0mload\u001b[0m\u001b[0;34m(\u001b[0m\u001b[0;34m\"tokenizers/punkt/{0}.pickle\"\u001b[0m\u001b[0;34m.\u001b[0m\u001b[0mformat\u001b[0m\u001b[0;34m(\u001b[0m\u001b[0mlanguage\u001b[0m\u001b[0;34m)\u001b[0m\u001b[0;34m)\u001b[0m\u001b[0;34m\u001b[0m\u001b[0;34m\u001b[0m\u001b[0m\n\u001b[0;32m--> 108\u001b[0;31m     \u001b[0;32mreturn\u001b[0m \u001b[0mtokenizer\u001b[0m\u001b[0;34m.\u001b[0m\u001b[0mtokenize\u001b[0m\u001b[0;34m(\u001b[0m\u001b[0mtext\u001b[0m\u001b[0;34m)\u001b[0m\u001b[0;34m\u001b[0m\u001b[0;34m\u001b[0m\u001b[0m\n\u001b[0m\u001b[1;32m    109\u001b[0m \u001b[0;34m\u001b[0m\u001b[0m\n\u001b[1;32m    110\u001b[0m \u001b[0;34m\u001b[0m\u001b[0m\n",
      "\u001b[0;32m/opt/anaconda3/lib/python3.8/site-packages/nltk/tokenize/punkt.py\u001b[0m in \u001b[0;36mtokenize\u001b[0;34m(self, text, realign_boundaries)\u001b[0m\n\u001b[1;32m   1272\u001b[0m         \u001b[0mGiven\u001b[0m \u001b[0ma\u001b[0m \u001b[0mtext\u001b[0m\u001b[0;34m,\u001b[0m \u001b[0mreturns\u001b[0m \u001b[0ma\u001b[0m \u001b[0mlist\u001b[0m \u001b[0mof\u001b[0m \u001b[0mthe\u001b[0m \u001b[0msentences\u001b[0m \u001b[0;32min\u001b[0m \u001b[0mthat\u001b[0m \u001b[0mtext\u001b[0m\u001b[0;34m.\u001b[0m\u001b[0;34m\u001b[0m\u001b[0;34m\u001b[0m\u001b[0m\n\u001b[1;32m   1273\u001b[0m         \"\"\"\n\u001b[0;32m-> 1274\u001b[0;31m         \u001b[0;32mreturn\u001b[0m \u001b[0mlist\u001b[0m\u001b[0;34m(\u001b[0m\u001b[0mself\u001b[0m\u001b[0;34m.\u001b[0m\u001b[0msentences_from_text\u001b[0m\u001b[0;34m(\u001b[0m\u001b[0mtext\u001b[0m\u001b[0;34m,\u001b[0m \u001b[0mrealign_boundaries\u001b[0m\u001b[0;34m)\u001b[0m\u001b[0;34m)\u001b[0m\u001b[0;34m\u001b[0m\u001b[0;34m\u001b[0m\u001b[0m\n\u001b[0m\u001b[1;32m   1275\u001b[0m \u001b[0;34m\u001b[0m\u001b[0m\n\u001b[1;32m   1276\u001b[0m     \u001b[0;32mdef\u001b[0m \u001b[0mdebug_decisions\u001b[0m\u001b[0;34m(\u001b[0m\u001b[0mself\u001b[0m\u001b[0;34m,\u001b[0m \u001b[0mtext\u001b[0m\u001b[0;34m)\u001b[0m\u001b[0;34m:\u001b[0m\u001b[0;34m\u001b[0m\u001b[0;34m\u001b[0m\u001b[0m\n",
      "\u001b[0;32m/opt/anaconda3/lib/python3.8/site-packages/nltk/tokenize/punkt.py\u001b[0m in \u001b[0;36msentences_from_text\u001b[0;34m(self, text, realign_boundaries)\u001b[0m\n\u001b[1;32m   1326\u001b[0m         \u001b[0mfollows\u001b[0m \u001b[0mthe\u001b[0m \u001b[0mperiod\u001b[0m\u001b[0;34m.\u001b[0m\u001b[0;34m\u001b[0m\u001b[0;34m\u001b[0m\u001b[0m\n\u001b[1;32m   1327\u001b[0m         \"\"\"\n\u001b[0;32m-> 1328\u001b[0;31m         \u001b[0;32mreturn\u001b[0m \u001b[0;34m[\u001b[0m\u001b[0mtext\u001b[0m\u001b[0;34m[\u001b[0m\u001b[0ms\u001b[0m\u001b[0;34m:\u001b[0m\u001b[0me\u001b[0m\u001b[0;34m]\u001b[0m \u001b[0;32mfor\u001b[0m \u001b[0ms\u001b[0m\u001b[0;34m,\u001b[0m \u001b[0me\u001b[0m \u001b[0;32min\u001b[0m \u001b[0mself\u001b[0m\u001b[0;34m.\u001b[0m\u001b[0mspan_tokenize\u001b[0m\u001b[0;34m(\u001b[0m\u001b[0mtext\u001b[0m\u001b[0;34m,\u001b[0m \u001b[0mrealign_boundaries\u001b[0m\u001b[0;34m)\u001b[0m\u001b[0;34m]\u001b[0m\u001b[0;34m\u001b[0m\u001b[0;34m\u001b[0m\u001b[0m\n\u001b[0m\u001b[1;32m   1329\u001b[0m \u001b[0;34m\u001b[0m\u001b[0m\n\u001b[1;32m   1330\u001b[0m     \u001b[0;32mdef\u001b[0m \u001b[0m_slices_from_text\u001b[0m\u001b[0;34m(\u001b[0m\u001b[0mself\u001b[0m\u001b[0;34m,\u001b[0m \u001b[0mtext\u001b[0m\u001b[0;34m)\u001b[0m\u001b[0;34m:\u001b[0m\u001b[0;34m\u001b[0m\u001b[0;34m\u001b[0m\u001b[0m\n",
      "\u001b[0;32m/opt/anaconda3/lib/python3.8/site-packages/nltk/tokenize/punkt.py\u001b[0m in \u001b[0;36m<listcomp>\u001b[0;34m(.0)\u001b[0m\n\u001b[1;32m   1326\u001b[0m         \u001b[0mfollows\u001b[0m \u001b[0mthe\u001b[0m \u001b[0mperiod\u001b[0m\u001b[0;34m.\u001b[0m\u001b[0;34m\u001b[0m\u001b[0;34m\u001b[0m\u001b[0m\n\u001b[1;32m   1327\u001b[0m         \"\"\"\n\u001b[0;32m-> 1328\u001b[0;31m         \u001b[0;32mreturn\u001b[0m \u001b[0;34m[\u001b[0m\u001b[0mtext\u001b[0m\u001b[0;34m[\u001b[0m\u001b[0ms\u001b[0m\u001b[0;34m:\u001b[0m\u001b[0me\u001b[0m\u001b[0;34m]\u001b[0m \u001b[0;32mfor\u001b[0m \u001b[0ms\u001b[0m\u001b[0;34m,\u001b[0m \u001b[0me\u001b[0m \u001b[0;32min\u001b[0m \u001b[0mself\u001b[0m\u001b[0;34m.\u001b[0m\u001b[0mspan_tokenize\u001b[0m\u001b[0;34m(\u001b[0m\u001b[0mtext\u001b[0m\u001b[0;34m,\u001b[0m \u001b[0mrealign_boundaries\u001b[0m\u001b[0;34m)\u001b[0m\u001b[0;34m]\u001b[0m\u001b[0;34m\u001b[0m\u001b[0;34m\u001b[0m\u001b[0m\n\u001b[0m\u001b[1;32m   1329\u001b[0m \u001b[0;34m\u001b[0m\u001b[0m\n\u001b[1;32m   1330\u001b[0m     \u001b[0;32mdef\u001b[0m \u001b[0m_slices_from_text\u001b[0m\u001b[0;34m(\u001b[0m\u001b[0mself\u001b[0m\u001b[0;34m,\u001b[0m \u001b[0mtext\u001b[0m\u001b[0;34m)\u001b[0m\u001b[0;34m:\u001b[0m\u001b[0;34m\u001b[0m\u001b[0;34m\u001b[0m\u001b[0m\n",
      "\u001b[0;32m/opt/anaconda3/lib/python3.8/site-packages/nltk/tokenize/punkt.py\u001b[0m in \u001b[0;36mspan_tokenize\u001b[0;34m(self, text, realign_boundaries)\u001b[0m\n\u001b[1;32m   1316\u001b[0m         \u001b[0;32mif\u001b[0m \u001b[0mrealign_boundaries\u001b[0m\u001b[0;34m:\u001b[0m\u001b[0;34m\u001b[0m\u001b[0;34m\u001b[0m\u001b[0m\n\u001b[1;32m   1317\u001b[0m             \u001b[0mslices\u001b[0m \u001b[0;34m=\u001b[0m \u001b[0mself\u001b[0m\u001b[0;34m.\u001b[0m\u001b[0m_realign_boundaries\u001b[0m\u001b[0;34m(\u001b[0m\u001b[0mtext\u001b[0m\u001b[0;34m,\u001b[0m \u001b[0mslices\u001b[0m\u001b[0;34m)\u001b[0m\u001b[0;34m\u001b[0m\u001b[0;34m\u001b[0m\u001b[0m\n\u001b[0;32m-> 1318\u001b[0;31m         \u001b[0;32mfor\u001b[0m \u001b[0msl\u001b[0m \u001b[0;32min\u001b[0m \u001b[0mslices\u001b[0m\u001b[0;34m:\u001b[0m\u001b[0;34m\u001b[0m\u001b[0;34m\u001b[0m\u001b[0m\n\u001b[0m\u001b[1;32m   1319\u001b[0m             \u001b[0;32myield\u001b[0m \u001b[0;34m(\u001b[0m\u001b[0msl\u001b[0m\u001b[0;34m.\u001b[0m\u001b[0mstart\u001b[0m\u001b[0;34m,\u001b[0m \u001b[0msl\u001b[0m\u001b[0;34m.\u001b[0m\u001b[0mstop\u001b[0m\u001b[0;34m)\u001b[0m\u001b[0;34m\u001b[0m\u001b[0;34m\u001b[0m\u001b[0m\n\u001b[1;32m   1320\u001b[0m \u001b[0;34m\u001b[0m\u001b[0m\n",
      "\u001b[0;32m/opt/anaconda3/lib/python3.8/site-packages/nltk/tokenize/punkt.py\u001b[0m in \u001b[0;36m_realign_boundaries\u001b[0;34m(self, text, slices)\u001b[0m\n\u001b[1;32m   1357\u001b[0m         \"\"\"\n\u001b[1;32m   1358\u001b[0m         \u001b[0mrealign\u001b[0m \u001b[0;34m=\u001b[0m \u001b[0;36m0\u001b[0m\u001b[0;34m\u001b[0m\u001b[0;34m\u001b[0m\u001b[0m\n\u001b[0;32m-> 1359\u001b[0;31m         \u001b[0;32mfor\u001b[0m \u001b[0msl1\u001b[0m\u001b[0;34m,\u001b[0m \u001b[0msl2\u001b[0m \u001b[0;32min\u001b[0m \u001b[0m_pair_iter\u001b[0m\u001b[0;34m(\u001b[0m\u001b[0mslices\u001b[0m\u001b[0;34m)\u001b[0m\u001b[0;34m:\u001b[0m\u001b[0;34m\u001b[0m\u001b[0;34m\u001b[0m\u001b[0m\n\u001b[0m\u001b[1;32m   1360\u001b[0m             \u001b[0msl1\u001b[0m \u001b[0;34m=\u001b[0m \u001b[0mslice\u001b[0m\u001b[0;34m(\u001b[0m\u001b[0msl1\u001b[0m\u001b[0;34m.\u001b[0m\u001b[0mstart\u001b[0m \u001b[0;34m+\u001b[0m \u001b[0mrealign\u001b[0m\u001b[0;34m,\u001b[0m \u001b[0msl1\u001b[0m\u001b[0;34m.\u001b[0m\u001b[0mstop\u001b[0m\u001b[0;34m)\u001b[0m\u001b[0;34m\u001b[0m\u001b[0;34m\u001b[0m\u001b[0m\n\u001b[1;32m   1361\u001b[0m             \u001b[0;32mif\u001b[0m \u001b[0;32mnot\u001b[0m \u001b[0msl2\u001b[0m\u001b[0;34m:\u001b[0m\u001b[0;34m\u001b[0m\u001b[0;34m\u001b[0m\u001b[0m\n",
      "\u001b[0;32m/opt/anaconda3/lib/python3.8/site-packages/nltk/tokenize/punkt.py\u001b[0m in \u001b[0;36m_pair_iter\u001b[0;34m(it)\u001b[0m\n\u001b[1;32m    314\u001b[0m     \u001b[0mit\u001b[0m \u001b[0;34m=\u001b[0m \u001b[0miter\u001b[0m\u001b[0;34m(\u001b[0m\u001b[0mit\u001b[0m\u001b[0;34m)\u001b[0m\u001b[0;34m\u001b[0m\u001b[0;34m\u001b[0m\u001b[0m\n\u001b[1;32m    315\u001b[0m     \u001b[0;32mtry\u001b[0m\u001b[0;34m:\u001b[0m\u001b[0;34m\u001b[0m\u001b[0;34m\u001b[0m\u001b[0m\n\u001b[0;32m--> 316\u001b[0;31m         \u001b[0mprev\u001b[0m \u001b[0;34m=\u001b[0m \u001b[0mnext\u001b[0m\u001b[0;34m(\u001b[0m\u001b[0mit\u001b[0m\u001b[0;34m)\u001b[0m\u001b[0;34m\u001b[0m\u001b[0;34m\u001b[0m\u001b[0m\n\u001b[0m\u001b[1;32m    317\u001b[0m     \u001b[0;32mexcept\u001b[0m \u001b[0mStopIteration\u001b[0m\u001b[0;34m:\u001b[0m\u001b[0;34m\u001b[0m\u001b[0;34m\u001b[0m\u001b[0m\n\u001b[1;32m    318\u001b[0m         \u001b[0;32mreturn\u001b[0m\u001b[0;34m\u001b[0m\u001b[0;34m\u001b[0m\u001b[0m\n",
      "\u001b[0;32m/opt/anaconda3/lib/python3.8/site-packages/nltk/tokenize/punkt.py\u001b[0m in \u001b[0;36m_slices_from_text\u001b[0;34m(self, text)\u001b[0m\n\u001b[1;32m   1330\u001b[0m     \u001b[0;32mdef\u001b[0m \u001b[0m_slices_from_text\u001b[0m\u001b[0;34m(\u001b[0m\u001b[0mself\u001b[0m\u001b[0;34m,\u001b[0m \u001b[0mtext\u001b[0m\u001b[0;34m)\u001b[0m\u001b[0;34m:\u001b[0m\u001b[0;34m\u001b[0m\u001b[0;34m\u001b[0m\u001b[0m\n\u001b[1;32m   1331\u001b[0m         \u001b[0mlast_break\u001b[0m \u001b[0;34m=\u001b[0m \u001b[0;36m0\u001b[0m\u001b[0;34m\u001b[0m\u001b[0;34m\u001b[0m\u001b[0m\n\u001b[0;32m-> 1332\u001b[0;31m         \u001b[0;32mfor\u001b[0m \u001b[0mmatch\u001b[0m \u001b[0;32min\u001b[0m \u001b[0mself\u001b[0m\u001b[0;34m.\u001b[0m\u001b[0m_lang_vars\u001b[0m\u001b[0;34m.\u001b[0m\u001b[0mperiod_context_re\u001b[0m\u001b[0;34m(\u001b[0m\u001b[0;34m)\u001b[0m\u001b[0;34m.\u001b[0m\u001b[0mfinditer\u001b[0m\u001b[0;34m(\u001b[0m\u001b[0mtext\u001b[0m\u001b[0;34m)\u001b[0m\u001b[0;34m:\u001b[0m\u001b[0;34m\u001b[0m\u001b[0;34m\u001b[0m\u001b[0m\n\u001b[0m\u001b[1;32m   1333\u001b[0m             \u001b[0mcontext\u001b[0m \u001b[0;34m=\u001b[0m \u001b[0mmatch\u001b[0m\u001b[0;34m.\u001b[0m\u001b[0mgroup\u001b[0m\u001b[0;34m(\u001b[0m\u001b[0;34m)\u001b[0m \u001b[0;34m+\u001b[0m \u001b[0mmatch\u001b[0m\u001b[0;34m.\u001b[0m\u001b[0mgroup\u001b[0m\u001b[0;34m(\u001b[0m\u001b[0;34m\"after_tok\"\u001b[0m\u001b[0;34m)\u001b[0m\u001b[0;34m\u001b[0m\u001b[0;34m\u001b[0m\u001b[0m\n\u001b[1;32m   1334\u001b[0m             \u001b[0;32mif\u001b[0m \u001b[0mself\u001b[0m\u001b[0;34m.\u001b[0m\u001b[0mtext_contains_sentbreak\u001b[0m\u001b[0;34m(\u001b[0m\u001b[0mcontext\u001b[0m\u001b[0;34m)\u001b[0m\u001b[0;34m:\u001b[0m\u001b[0;34m\u001b[0m\u001b[0;34m\u001b[0m\u001b[0m\n",
      "\u001b[0;31mKeyboardInterrupt\u001b[0m: "
     ]
    }
   ],
   "source": [
    "tenkdict = {}\n",
    "\n",
    "for f in tqdm(glob.glob('./data/*')):\n",
    "    title = f\n",
    "    ten_k = search_10k(f)\n",
    "    \n",
    "    tenkdict[title] = ten_k"
   ]
  },
  {
   "cell_type": "code",
   "execution_count": 47,
   "id": "33013853",
   "metadata": {},
   "outputs": [
    {
     "data": {
      "text/plain": [
       "{'./data/lake_10k.html': [('On February 17, 2021, the Company’s board of directors approved a stock repurchase program under which the Company may repurchase up to $5 million of its outstanding common stock.',\n",
       "   'February 17, 2021',\n",
       "   'DATE'),\n",
       "  ('On February 17, 2021, the Company’s board of directors approved a stock repurchase program under which the Company may repurchase up to $5 million of its outstanding common stock.',\n",
       "   'up to $5 million',\n",
       "   'MONEY'),\n",
       "  ('On July 6, 2021, the Board of Directors authorized an increase in the Company’s current stock repurchase program under which the Company may repurchase up to an additional $5 million of its outstanding common stock (the “Existing Share Repurchase Program”).',\n",
       "   'July 6, 2021',\n",
       "   'DATE'),\n",
       "  ('On July 6, 2021, the Board of Directors authorized an increase in the Company’s current stock repurchase program under which the Company may repurchase up to an additional $5 million of its outstanding common stock (the “Existing Share Repurchase Program”).',\n",
       "   'an additional $5 million',\n",
       "   'MONEY'),\n",
       "  ('On April 7, 2022, the Board of Directors authorized a new stock repurchase program under which the Company may repurchase up to $5 million of its outstanding common stock (the “New Share Repurchase Program”).',\n",
       "   'April 7, 2022',\n",
       "   'DATE'),\n",
       "  ('On April 7, 2022, the Board of Directors authorized a new stock repurchase program under which the Company may repurchase up to $5 million of its outstanding common stock (the “New Share Repurchase Program”).',\n",
       "   'up to $5 million',\n",
       "   'MONEY'),\n",
       "  ('On February 17, 2021, the Company’s Board of Directors approved a stock repurchase program under which the Company may repurchase up to $5 million of its outstanding common stock.',\n",
       "   'February 17, 2021',\n",
       "   'DATE'),\n",
       "  ('On February 17, 2021, the Company’s Board of Directors approved a stock repurchase program under which the Company may repurchase up to $5 million of its outstanding common stock.',\n",
       "   'up to $5 million',\n",
       "   'MONEY'),\n",
       "  ('On July 6, 2021, the Board of Directors authorized an increase in the Company’s current stock repurchase program under which the Company may repurchase up to an additional $5 million of its outstanding common stock (the “Existing Share Repurchase Program”).',\n",
       "   'July 6, 2021',\n",
       "   'DATE'),\n",
       "  ('On July 6, 2021, the Board of Directors authorized an increase in the Company’s current stock repurchase program under which the Company may repurchase up to an additional $5 million of its outstanding common stock (the “Existing Share Repurchase Program”).',\n",
       "   'an additional $5 million',\n",
       "   'MONEY'),\n",
       "  ('29Table of Contents On April 7, 2022, the Board of Directors authorized a new stock repurchase program under which the Company may repurchase up to $5 million of its outstanding common stock (the “New Share Repurchase Program”).',\n",
       "   '29Table',\n",
       "   'CARDINAL'),\n",
       "  ('29Table of Contents On April 7, 2022, the Board of Directors authorized a new stock repurchase program under which the Company may repurchase up to $5 million of its outstanding common stock (the “New Share Repurchase Program”).',\n",
       "   'April 7, 2022',\n",
       "   'DATE'),\n",
       "  ('29Table of Contents On April 7, 2022, the Board of Directors authorized a new stock repurchase program under which the Company may repurchase up to $5 million of its outstanding common stock (the “New Share Repurchase Program”).',\n",
       "   'up to $5 million',\n",
       "   'MONEY'),\n",
       "  ('Stock Repurchase ProgramOn February 17, 2021, the Company’s Board of Directors approved a stock repurchase program under which the Company may repurchase up to $5 million of its outstanding common stock.',\n",
       "   'February 17, 2021',\n",
       "   'DATE'),\n",
       "  ('Stock Repurchase ProgramOn February 17, 2021, the Company’s Board of Directors approved a stock repurchase program under which the Company may repurchase up to $5 million of its outstanding common stock.',\n",
       "   'up to $5 million',\n",
       "   'MONEY'),\n",
       "  ('On July 6, 2021, the Board of Directors authorized an increase in the Company’s current stock repurchase program under which the Company may repurchase up to an additional $5 million of its outstanding common stock (the \"Existing Shares Repurchase Program\") Shares repurchased in FY22 totaled 430,463 shares at a cost of $9.2 million leaving $0.8 million remaining under the stock repurchase program at January 31, 2022.',\n",
       "   'July 6, 2021',\n",
       "   'DATE'),\n",
       "  ('On July 6, 2021, the Board of Directors authorized an increase in the Company’s current stock repurchase program under which the Company may repurchase up to an additional $5 million of its outstanding common stock (the \"Existing Shares Repurchase Program\") Shares repurchased in FY22 totaled 430,463 shares at a cost of $9.2 million leaving $0.8 million remaining under the stock repurchase program at January 31, 2022.',\n",
       "   'an additional $5 million',\n",
       "   'MONEY'),\n",
       "  ('On July 6, 2021, the Board of Directors authorized an increase in the Company’s current stock repurchase program under which the Company may repurchase up to an additional $5 million of its outstanding common stock (the \"Existing Shares Repurchase Program\") Shares repurchased in FY22 totaled 430,463 shares at a cost of $9.2 million leaving $0.8 million remaining under the stock repurchase program at January 31, 2022.',\n",
       "   '430,463',\n",
       "   'CARDINAL'),\n",
       "  ('On July 6, 2021, the Board of Directors authorized an increase in the Company’s current stock repurchase program under which the Company may repurchase up to an additional $5 million of its outstanding common stock (the \"Existing Shares Repurchase Program\") Shares repurchased in FY22 totaled 430,463 shares at a cost of $9.2 million leaving $0.8 million remaining under the stock repurchase program at January 31, 2022.',\n",
       "   '$9.2 million',\n",
       "   'MONEY'),\n",
       "  ('On July 6, 2021, the Board of Directors authorized an increase in the Company’s current stock repurchase program under which the Company may repurchase up to an additional $5 million of its outstanding common stock (the \"Existing Shares Repurchase Program\") Shares repurchased in FY22 totaled 430,463 shares at a cost of $9.2 million leaving $0.8 million remaining under the stock repurchase program at January 31, 2022.',\n",
       "   '$0.8 million',\n",
       "   'MONEY'),\n",
       "  ('On July 6, 2021, the Board of Directors authorized an increase in the Company’s current stock repurchase program under which the Company may repurchase up to an additional $5 million of its outstanding common stock (the \"Existing Shares Repurchase Program\") Shares repurchased in FY22 totaled 430,463 shares at a cost of $9.2 million leaving $0.8 million remaining under the stock repurchase program at January 31, 2022.',\n",
       "   'January 31, 2022',\n",
       "   'DATE'),\n",
       "  ('On April 7, 2022, the Board of Directors authorized a new stock repurchase program under which the Company may repurchase up to $5 million of its outstanding common stock (the “New Share Repurchase Program”).',\n",
       "   'April 7, 2022',\n",
       "   'DATE'),\n",
       "  ('On April 7, 2022, the Board of Directors authorized a new stock repurchase program under which the Company may repurchase up to $5 million of its outstanding common stock (the “New Share Repurchase Program”).',\n",
       "   'up to $5 million',\n",
       "   'MONEY')],\n",
       " './data/azz-20220228.html': [('Any future dividends payments will be reviewed each quarter and declared by the Board of Directors at its discretion.Purchases of Equity SecuritiesOn November 10, 2020, our Board of Directors authorized a $100 million share repurchase program pursuant to which the Company may repurchase our common stock (the “2020 Authorization”).',\n",
       "   'each quarter',\n",
       "   'DATE'),\n",
       "  ('Any future dividends payments will be reviewed each quarter and declared by the Board of Directors at its discretion.Purchases of Equity SecuritiesOn November 10, 2020, our Board of Directors authorized a $100 million share repurchase program pursuant to which the Company may repurchase our common stock (the “2020 Authorization”).',\n",
       "   'November 10, 2020',\n",
       "   'DATE'),\n",
       "  ('Any future dividends payments will be reviewed each quarter and declared by the Board of Directors at its discretion.Purchases of Equity SecuritiesOn November 10, 2020, our Board of Directors authorized a $100 million share repurchase program pursuant to which the Company may repurchase our common stock (the “2020 Authorization”).',\n",
       "   '$100 million',\n",
       "   'MONEY'),\n",
       "  ('\"Our new financing will have interest rates that are higher than our current notes, resulting in higher interest expense.30Table of ContentsShare RepurchasesOn November 10, 2020, the Company\\'s Board of Directors authorized a $100 million share repurchase program pursuant to which the Company may repurchase its common stock (the “2020 Authorization”).\"',\n",
       "   'November 10, 2020',\n",
       "   'DATE'),\n",
       "  ('\"Our new financing will have interest rates that are higher than our current notes, resulting in higher interest expense.30Table of ContentsShare RepurchasesOn November 10, 2020, the Company\\'s Board of Directors authorized a $100 million share repurchase program pursuant to which the Company may repurchase its common stock (the “2020 Authorization”).\"',\n",
       "   '$100 million',\n",
       "   'MONEY'),\n",
       "  ('\"Repurchases under the 2012 Authorization were made through open market purchases or private transactions.On November 10, 2020, the Company\\'s Board of Directors authorized a $100.0 million share repurchase program pursuant to which the Company may repurchase its common stock (the “2020 Authorization”).\"',\n",
       "   '2012',\n",
       "   'DATE'),\n",
       "  ('\"Repurchases under the 2012 Authorization were made through open market purchases or private transactions.On November 10, 2020, the Company\\'s Board of Directors authorized a $100.0 million share repurchase program pursuant to which the Company may repurchase its common stock (the “2020 Authorization”).\"',\n",
       "   'November 10, 2020',\n",
       "   'DATE'),\n",
       "  ('\"Repurchases under the 2012 Authorization were made through open market purchases or private transactions.On November 10, 2020, the Company\\'s Board of Directors authorized a $100.0 million share repurchase program pursuant to which the Company may repurchase its common stock (the “2020 Authorization”).\"',\n",
       "   '$100.0 million',\n",
       "   'MONEY')],\n",
       " './data/prgs-20211130.htm': []}"
      ]
     },
     "execution_count": 47,
     "metadata": {},
     "output_type": "execute_result"
    }
   ],
   "source": [
    "tenkdict"
   ]
  }
 ],
 "metadata": {
  "kernelspec": {
   "display_name": "Python 3",
   "language": "python",
   "name": "python3"
  },
  "language_info": {
   "codemirror_mode": {
    "name": "ipython",
    "version": 3
   },
   "file_extension": ".py",
   "mimetype": "text/x-python",
   "name": "python",
   "nbconvert_exporter": "python",
   "pygments_lexer": "ipython3",
   "version": "3.8.8"
  }
 },
 "nbformat": 4,
 "nbformat_minor": 5
}
